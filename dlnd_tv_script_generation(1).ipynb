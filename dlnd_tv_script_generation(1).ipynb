{
 "cells": [
  {
   "cell_type": "markdown",
   "metadata": {
    "deletable": true,
    "editable": true
   },
   "source": [
    "# TV Script Generation\n",
    "In this project, you'll generate your own [Simpsons](https://en.wikipedia.org/wiki/The_Simpsons) TV scripts using RNNs.  You'll be using part of the [Simpsons dataset](https://www.kaggle.com/wcukierski/the-simpsons-by-the-data) of scripts from 27 seasons.  The Neural Network you'll build will generate a new TV script for a scene at [Moe's Tavern](https://simpsonswiki.com/wiki/Moe's_Tavern).\n",
    "## Get the Data\n",
    "The data is already provided for you.  You'll be using a subset of the original dataset.  It consists of only the scenes in Moe's Tavern.  This doesn't include other versions of the tavern, like \"Moe's Cavern\", \"Flaming Moe's\", \"Uncle Moe's Family Feed-Bag\", etc.."
   ]
  },
  {
   "cell_type": "code",
   "execution_count": 1,
   "metadata": {
    "collapsed": true,
    "deletable": true,
    "editable": true
   },
   "outputs": [],
   "source": [
    "\"\"\"\n",
    "DON'T MODIFY ANYTHING IN THIS CELL\n",
    "\"\"\"\n",
    "import helper\n",
    "\n",
    "data_dir = './data/simpsons/moes_tavern_lines.txt'\n",
    "text = helper.load_data(data_dir)\n",
    "# Ignore notice, since we don't use it for analysing the data\n",
    "text = text[81:]"
   ]
  },
  {
   "cell_type": "markdown",
   "metadata": {
    "deletable": true,
    "editable": true
   },
   "source": [
    "## Explore the Data\n",
    "Play around with `view_sentence_range` to view different parts of the data."
   ]
  },
  {
   "cell_type": "code",
   "execution_count": 2,
   "metadata": {
    "collapsed": false,
    "deletable": true,
    "editable": true
   },
   "outputs": [
    {
     "name": "stdout",
     "output_type": "stream",
     "text": [
      "Dataset Stats\n",
      "Roughly the number of unique words: 11492\n",
      "Number of scenes: 262\n",
      "Average number of sentences in each scene: 15.248091603053435\n",
      "Number of lines: 4257\n",
      "Average number of words in each line: 11.50434578341555\n",
      "\n",
      "The sentences 0 to 10:\n",
      "Moe_Szyslak: (INTO PHONE) Moe's Tavern. Where the elite meet to drink.\n",
      "Bart_Simpson: Eh, yeah, hello, is Mike there? Last name, Rotch.\n",
      "Moe_Szyslak: (INTO PHONE) Hold on, I'll check. (TO BARFLIES) Mike Rotch. Mike Rotch. Hey, has anybody seen Mike Rotch, lately?\n",
      "Moe_Szyslak: (INTO PHONE) Listen you little puke. One of these days I'm gonna catch you, and I'm gonna carve my name on your back with an ice pick.\n",
      "Moe_Szyslak: What's the matter Homer? You're not your normal effervescent self.\n",
      "Homer_Simpson: I got my problems, Moe. Give me another one.\n",
      "Moe_Szyslak: Homer, hey, you should not drink to forget your problems.\n",
      "Barney_Gumble: Yeah, you should only drink to enhance your social skills.\n",
      "\n",
      "\n"
     ]
    }
   ],
   "source": [
    "view_sentence_range = (0, 10)\n",
    "\n",
    "\"\"\"\n",
    "DON'T MODIFY ANYTHING IN THIS CELL\n",
    "\"\"\"\n",
    "import numpy as np\n",
    "\n",
    "print('Dataset Stats')\n",
    "print('Roughly the number of unique words: {}'.format(len({word: None for word in text.split()})))\n",
    "scenes = text.split('\\n\\n')\n",
    "print('Number of scenes: {}'.format(len(scenes)))\n",
    "sentence_count_scene = [scene.count('\\n') for scene in scenes]\n",
    "print('Average number of sentences in each scene: {}'.format(np.average(sentence_count_scene)))\n",
    "\n",
    "sentences = [sentence for scene in scenes for sentence in scene.split('\\n')]\n",
    "print('Number of lines: {}'.format(len(sentences)))\n",
    "word_count_sentence = [len(sentence.split()) for sentence in sentences]\n",
    "print('Average number of words in each line: {}'.format(np.average(word_count_sentence)))\n",
    "\n",
    "print()\n",
    "print('The sentences {} to {}:'.format(*view_sentence_range))\n",
    "print('\\n'.join(text.split('\\n')[view_sentence_range[0]:view_sentence_range[1]]))"
   ]
  },
  {
   "cell_type": "markdown",
   "metadata": {
    "deletable": true,
    "editable": true
   },
   "source": [
    "## Implement Preprocessing Functions\n",
    "The first thing to do to any dataset is preprocessing.  Implement the following preprocessing functions below:\n",
    "- Lookup Table\n",
    "- Tokenize Punctuation\n",
    "\n",
    "### Lookup Table\n",
    "To create a word embedding, you first need to transform the words to ids.  In this function, create two dictionaries:\n",
    "- Dictionary to go from the words to an id, we'll call `vocab_to_int`\n",
    "- Dictionary to go from the id to word, we'll call `int_to_vocab`\n",
    "\n",
    "Return these dictionaries in the following tuple `(vocab_to_int, int_to_vocab)`"
   ]
  },
  {
   "cell_type": "code",
   "execution_count": 3,
   "metadata": {
    "collapsed": false,
    "deletable": true,
    "editable": true
   },
   "outputs": [
    {
     "name": "stderr",
     "output_type": "stream",
     "text": [
      "/usr/lib/python3.5/importlib/_bootstrap.py:222: RuntimeWarning: numpy.dtype size changed, may indicate binary incompatibility. Expected 96, got 88\n",
      "  return f(*args, **kwds)\n",
      "/usr/lib/python3.5/importlib/_bootstrap.py:222: RuntimeWarning: numpy.dtype size changed, may indicate binary incompatibility. Expected 96, got 88\n",
      "  return f(*args, **kwds)\n"
     ]
    },
    {
     "name": "stdout",
     "output_type": "stream",
     "text": [
      "Tests Passed\n"
     ]
    }
   ],
   "source": [
    "import numpy as np\n",
    "import problem_unittests as tests\n",
    "from collections import Counter\n",
    "def create_lookup_tables(text):\n",
    "    \"\"\"\n",
    "    Create lookup tables for vocabulary\n",
    "    :param text: The text of tv scripts split into words\n",
    "    :return: A tuple of dicts (vocab_to_int, int_to_vocab)\n",
    "    \"\"\"\n",
    "    # TODO: Implement Function\n",
    "    countwords = Counter(text)\n",
    "    vocabulary = sorted(countwords, key=countwords.get, reverse=True)\n",
    "    v2i = {word: i for i, word in enumerate(vocabulary)}\n",
    "    i2v = {i: j for j, i in v2i.items()}\n",
    "    return (v2i, i2v)\n",
    "\n",
    "\n",
    "\n",
    "\"\"\"\n",
    "DON'T MODIFY ANYTHING IN THIS CELL THAT IS BELOW THIS LINE\n",
    "\"\"\"\n",
    "tests.test_create_lookup_tables(create_lookup_tables)"
   ]
  },
  {
   "cell_type": "markdown",
   "metadata": {
    "deletable": true,
    "editable": true
   },
   "source": [
    "### Tokenize Punctuation\n",
    "We'll be splitting the script into a word array using spaces as delimiters.  However, punctuations like periods and exclamation marks make it hard for the neural network to distinguish between the word \"bye\" and \"bye!\".\n",
    "\n",
    "Implement the function `token_lookup` to return a dict that will be used to tokenize symbols like \"!\" into \"||Exclamation_Mark||\".  Create a dictionary for the following symbols where the symbol is the key and value is the token:\n",
    "- Period ( . )\n",
    "- Comma ( , )\n",
    "- Quotation Mark ( \" )\n",
    "- Semicolon ( ; )\n",
    "- Exclamation mark ( ! )\n",
    "- Question mark ( ? )\n",
    "- Left Parentheses ( ( )\n",
    "- Right Parentheses ( ) )\n",
    "- Dash ( -- )\n",
    "- Return ( \\n )\n",
    "\n",
    "This dictionary will be used to token the symbols and add the delimiter (space) around it.  This separates the symbols as it's own word, making it easier for the neural network to predict on the next word. Make sure you don't use a token that could be confused as a word. Instead of using the token \"dash\", try using something like \"||dash||\"."
   ]
  },
  {
   "cell_type": "code",
   "execution_count": 4,
   "metadata": {
    "collapsed": false,
    "deletable": true,
    "editable": true
   },
   "outputs": [
    {
     "name": "stdout",
     "output_type": "stream",
     "text": [
      "Tests Passed\n"
     ]
    }
   ],
   "source": [
    "def token_lookup():\n",
    "    \"\"\"\n",
    "    Generate a dict to turn punctuation into a token.\n",
    "    :return: Tokenize dictionary where the key is the punctuation and the value is the token\n",
    "    \"\"\"\n",
    "    # TODO: Implement Function\n",
    "    return {'.': '%%period%%', \n",
    "           ',': '%%comma%%',\n",
    "           '\"': '%%quotemark%%',\n",
    "           ';': '%%semicolon%%',\n",
    "           '!': '%%excmark%%',\n",
    "           '?': '%%questionmark%%',\n",
    "           '(': '%%lparentheses%%',\n",
    "           ')': '%%rparentheses%%',\n",
    "           '--': '%%dash%%',\n",
    "           '\\n': '%%return%%'}\n",
    "\n",
    "\"\"\"\n",
    "DON'T MODIFY ANYTHING IN THIS CELL THAT IS BELOW THIS LINE\n",
    "\"\"\"\n",
    "tests.test_tokenize(token_lookup)"
   ]
  },
  {
   "cell_type": "markdown",
   "metadata": {
    "deletable": true,
    "editable": true
   },
   "source": [
    "## Preprocess all the data and save it\n",
    "Running the code cell below will preprocess all the data and save it to file."
   ]
  },
  {
   "cell_type": "code",
   "execution_count": 5,
   "metadata": {
    "collapsed": true,
    "deletable": true,
    "editable": true
   },
   "outputs": [],
   "source": [
    "\"\"\"\n",
    "DON'T MODIFY ANYTHING IN THIS CELL\n",
    "\"\"\"\n",
    "# Preprocess Training, Validation, and Testing Data\n",
    "helper.preprocess_and_save_data(data_dir, token_lookup, create_lookup_tables)"
   ]
  },
  {
   "cell_type": "markdown",
   "metadata": {
    "deletable": true,
    "editable": true
   },
   "source": [
    "# Check Point\n",
    "This is your first checkpoint. If you ever decide to come back to this notebook or have to restart the notebook, you can start from here. The preprocessed data has been saved to disk."
   ]
  },
  {
   "cell_type": "code",
   "execution_count": 6,
   "metadata": {
    "collapsed": true,
    "deletable": true,
    "editable": true
   },
   "outputs": [],
   "source": [
    "\"\"\"\n",
    "DON'T MODIFY ANYTHING IN THIS CELL\n",
    "\"\"\"\n",
    "import helper\n",
    "import numpy as np\n",
    "import problem_unittests as tests\n",
    "\n",
    "int_text, vocab_to_int, int_to_vocab, token_dict = helper.load_preprocess()"
   ]
  },
  {
   "cell_type": "markdown",
   "metadata": {
    "deletable": true,
    "editable": true
   },
   "source": [
    "## Build the Neural Network\n",
    "You'll build the components necessary to build a RNN by implementing the following functions below:\n",
    "- get_inputs\n",
    "- get_init_cell\n",
    "- get_embed\n",
    "- build_rnn\n",
    "- build_nn\n",
    "- get_batches\n",
    "\n",
    "### Check the Version of TensorFlow and Access to GPU"
   ]
  },
  {
   "cell_type": "code",
   "execution_count": 7,
   "metadata": {
    "collapsed": false,
    "deletable": true,
    "editable": true
   },
   "outputs": [
    {
     "name": "stdout",
     "output_type": "stream",
     "text": [
      "TensorFlow Version: 1.4.1\n",
      "Default GPU Device: /device:GPU:0\n"
     ]
    }
   ],
   "source": [
    "\"\"\"\n",
    "DON'T MODIFY ANYTHING IN THIS CELL\n",
    "\"\"\"\n",
    "from distutils.version import LooseVersion\n",
    "import warnings\n",
    "import tensorflow as tf\n",
    "\n",
    "# Check TensorFlow Version\n",
    "assert LooseVersion(tf.__version__) >= LooseVersion('1.3'), 'Please use TensorFlow version 1.3 or newer'\n",
    "print('TensorFlow Version: {}'.format(tf.__version__))\n",
    "\n",
    "# Check for a GPU\n",
    "if not tf.test.gpu_device_name():\n",
    "    warnings.warn('No GPU found. Please use a GPU to train your neural network.')\n",
    "else:\n",
    "    print('Default GPU Device: {}'.format(tf.test.gpu_device_name()))"
   ]
  },
  {
   "cell_type": "markdown",
   "metadata": {
    "deletable": true,
    "editable": true
   },
   "source": [
    "### Input\n",
    "Implement the `get_inputs()` function to create TF Placeholders for the Neural Network.  It should create the following placeholders:\n",
    "- Input text placeholder named \"input\" using the [TF Placeholder](https://www.tensorflow.org/api_docs/python/tf/placeholder) `name` parameter.\n",
    "- Targets placeholder\n",
    "- Learning Rate placeholder\n",
    "\n",
    "Return the placeholders in the following tuple `(Input, Targets, LearningRate)`"
   ]
  },
  {
   "cell_type": "code",
   "execution_count": 8,
   "metadata": {
    "collapsed": false,
    "deletable": true,
    "editable": true
   },
   "outputs": [
    {
     "name": "stdout",
     "output_type": "stream",
     "text": [
      "Tests Passed\n"
     ]
    }
   ],
   "source": [
    "def get_inputs():\n",
    "    \"\"\"\n",
    "    Create TF Placeholders for input, targets, and learning rate.\n",
    "    :return: Tuple (input, targets, learning rate)\n",
    "    \"\"\"\n",
    "    # TODO: Implement Function\n",
    "    inp = tf.placeholder(tf.int32, [None, None], name='input')\n",
    "    tar = tf.placeholder(tf.int32, [None, None], name='targets')\n",
    "    lr = tf.placeholder(tf.float32, name='learningrate')\n",
    "    return (inp, tar, lr)\n",
    "\n",
    "\n",
    "\"\"\"\n",
    "DON'T MODIFY ANYTHING IN THIS CELL THAT IS BELOW THIS LINE\n",
    "\"\"\"\n",
    "tests.test_get_inputs(get_inputs)"
   ]
  },
  {
   "cell_type": "markdown",
   "metadata": {
    "deletable": true,
    "editable": true
   },
   "source": [
    "### Build RNN Cell and Initialize\n",
    "Stack one or more [`BasicLSTMCells`](https://www.tensorflow.org/api_docs/python/tf/contrib/rnn/BasicLSTMCell) in a [`MultiRNNCell`](https://www.tensorflow.org/api_docs/python/tf/contrib/rnn/MultiRNNCell).\n",
    "- The Rnn size should be set using `rnn_size`\n",
    "- Initalize Cell State using the MultiRNNCell's [`zero_state()`](https://www.tensorflow.org/api_docs/python/tf/contrib/rnn/MultiRNNCell#zero_state) function\n",
    "    - Apply the name \"initial_state\" to the initial state using [`tf.identity()`](https://www.tensorflow.org/api_docs/python/tf/identity)\n",
    "\n",
    "Return the cell and initial state in the following tuple `(Cell, InitialState)`"
   ]
  },
  {
   "cell_type": "code",
   "execution_count": 9,
   "metadata": {
    "collapsed": false,
    "deletable": true,
    "editable": true
   },
   "outputs": [
    {
     "name": "stdout",
     "output_type": "stream",
     "text": [
      "Tests Passed\n"
     ]
    }
   ],
   "source": [
    "def get_init_cell(batch_size, rnn_size):\n",
    "    \"\"\"\n",
    "    Create an RNN Cell and initialize it.\n",
    "    :param batch_size: Size of batches\n",
    "    :param rnn_size: Size of RNNs\n",
    "    :return: Tuple (cell, initialize state)\n",
    "    \"\"\"\n",
    "    # TODO: Implement Function\n",
    "    lstm_cell = tf.contrib.rnn.BasicLSTMCell(rnn_size)\n",
    "    cell = tf.contrib.rnn.MultiRNNCell([lstm_cell])\n",
    "    initial_state = cell.zero_state(batch_size, tf.float32)\n",
    "    initial_state = tf.identity(initial_state, name='initial_state')\n",
    "    return cell, initial_state\n",
    "\n",
    "\n",
    "\"\"\"\n",
    "DON'T MODIFY ANYTHING IN THIS CELL THAT IS BELOW THIS LINE\n",
    "\"\"\"\n",
    "tests.test_get_init_cell(get_init_cell)"
   ]
  },
  {
   "cell_type": "markdown",
   "metadata": {
    "deletable": true,
    "editable": true
   },
   "source": [
    "### Word Embedding\n",
    "Apply embedding to `input_data` using TensorFlow.  Return the embedded sequence."
   ]
  },
  {
   "cell_type": "code",
   "execution_count": 10,
   "metadata": {
    "collapsed": false,
    "deletable": true,
    "editable": true
   },
   "outputs": [
    {
     "name": "stdout",
     "output_type": "stream",
     "text": [
      "Tests Passed\n"
     ]
    }
   ],
   "source": [
    "def get_embed(input_data, vocab_size, embed_dim):\n",
    "    \"\"\"\n",
    "    Create embedding for <input_data>.\n",
    "    :param input_data: TF placeholder for text input.\n",
    "    :param vocab_size: Number of words in vocabulary.\n",
    "    :param embed_dim: Number of embedding dimensions\n",
    "    :return: Embedded input.\n",
    "    \"\"\"\n",
    "    # TODO: Implement Function\n",
    "    emb = tf.Variable(tf.random_uniform((vocab_size, embed_dim), -1, 1))\n",
    "    emb = tf.nn.embedding_lookup(emb, input_data)\n",
    "    return emb\n",
    "\n",
    "\n",
    "\"\"\"\n",
    "DON'T MODIFY ANYTHING IN THIS CELL THAT IS BELOW THIS LINE\n",
    "\"\"\"\n",
    "tests.test_get_embed(get_embed)"
   ]
  },
  {
   "cell_type": "markdown",
   "metadata": {
    "deletable": true,
    "editable": true
   },
   "source": [
    "### Build RNN\n",
    "You created a RNN Cell in the `get_init_cell()` function.  Time to use the cell to create a RNN.\n",
    "- Build the RNN using the [`tf.nn.dynamic_rnn()`](https://www.tensorflow.org/api_docs/python/tf/nn/dynamic_rnn)\n",
    " - Apply the name \"final_state\" to the final state using [`tf.identity()`](https://www.tensorflow.org/api_docs/python/tf/identity)\n",
    "\n",
    "Return the outputs and final_state state in the following tuple `(Outputs, FinalState)` "
   ]
  },
  {
   "cell_type": "code",
   "execution_count": 11,
   "metadata": {
    "collapsed": false,
    "deletable": true,
    "editable": true
   },
   "outputs": [
    {
     "name": "stdout",
     "output_type": "stream",
     "text": [
      "Tests Passed\n"
     ]
    }
   ],
   "source": [
    "def build_rnn(cell, inputs):\n",
    "    \"\"\"\n",
    "    Create a RNN using a RNN Cell\n",
    "    :param cell: RNN Cell\n",
    "    :param inputs: Input text data\n",
    "    :return: Tuple (Outputs, Final State)\n",
    "    \"\"\"\n",
    "    # TODO: Implement Function\n",
    "    out, state = tf.nn.dynamic_rnn(cell, inputs, dtype=tf.float32)\n",
    "    fstate = tf.identity(state, 'final_state')\n",
    "    return out, fstate\n",
    "\n",
    "\n",
    "\"\"\"\n",
    "DON'T MODIFY ANYTHING IN THIS CELL THAT IS BELOW THIS LINE\n",
    "\"\"\"\n",
    "tests.test_build_rnn(build_rnn)"
   ]
  },
  {
   "cell_type": "markdown",
   "metadata": {
    "deletable": true,
    "editable": true
   },
   "source": [
    "### Build the Neural Network\n",
    "Apply the functions you implemented above to:\n",
    "- Apply embedding to `input_data` using your `get_embed(input_data, vocab_size, embed_dim)` function.\n",
    "- Build RNN using `cell` and your `build_rnn(cell, inputs)` function.\n",
    "- Apply a fully connected layer with a linear activation and `vocab_size` as the number of outputs.\n",
    "\n",
    "Return the logits and final state in the following tuple (Logits, FinalState) "
   ]
  },
  {
   "cell_type": "code",
   "execution_count": 12,
   "metadata": {
    "collapsed": false,
    "deletable": true,
    "editable": true
   },
   "outputs": [
    {
     "name": "stdout",
     "output_type": "stream",
     "text": [
      "Tests Passed\n"
     ]
    }
   ],
   "source": [
    "def build_nn(cell, rnn_size, input_data, vocab_size, embed_dim):\n",
    "    \"\"\"\n",
    "    Build part of the neural network\n",
    "    :param cell: RNN cell\n",
    "    :param rnn_size: Size of rnns\n",
    "    :param input_data: Input data\n",
    "    :param vocab_size: Vocabulary size\n",
    "    :param embed_dim: Number of embedding dimensions\n",
    "    :return: Tuple (Logits, FinalState)\n",
    "    \"\"\"\n",
    "    # TODO: Implement Function\n",
    "    embedding_inputs = get_embed(input_data, vocab_size, embed_dim)\n",
    "    out, fstate = build_rnn(cell, embedding_inputs)\n",
    "    logits = tf.contrib.layers.fully_connected(out, vocab_size, activation_fn=None, weights_initializer=tf.truncated_normal_initializer(), biases_initializer=tf.zeros_initializer())\n",
    "    \n",
    "    return logits,fstate\n",
    "\n",
    "\n",
    "\"\"\"\n",
    "DON'T MODIFY ANYTHING IN THIS CELL THAT IS BELOW THIS LINE\n",
    "\"\"\"\n",
    "tests.test_build_nn(build_nn)"
   ]
  },
  {
   "cell_type": "markdown",
   "metadata": {
    "deletable": true,
    "editable": true
   },
   "source": [
    "### Batches\n",
    "Implement `get_batches` to create batches of input and targets using `int_text`.  The batches should be a Numpy array with the shape `(number of batches, 2, batch size, sequence length)`. Each batch contains two elements:\n",
    "- The first element is a single batch of **input** with the shape `[batch size, sequence length]`\n",
    "- The second element is a single batch of **targets** with the shape `[batch size, sequence length]`\n",
    "\n",
    "If you can't fill the last batch with enough data, drop the last batch.\n",
    "\n",
    "For example, `get_batches([1, 2, 3, 4, 5, 6, 7, 8, 9, 10, 11, 12, 13, 14, 15, 16, 17, 18, 19, 20], 3, 2)` would return a Numpy array of the following:\n",
    "```\n",
    "[\n",
    "  # First Batch\n",
    "  [\n",
    "    # Batch of Input\n",
    "    [[ 1  2], [ 7  8], [13 14]]\n",
    "    # Batch of targets\n",
    "    [[ 2  3], [ 8  9], [14 15]]\n",
    "  ]\n",
    "\n",
    "  # Second Batch\n",
    "  [\n",
    "    # Batch of Input\n",
    "    [[ 3  4], [ 9 10], [15 16]]\n",
    "    # Batch of targets\n",
    "    [[ 4  5], [10 11], [16 17]]\n",
    "  ]\n",
    "\n",
    "  # Third Batch\n",
    "  [\n",
    "    # Batch of Input\n",
    "    [[ 5  6], [11 12], [17 18]]\n",
    "    # Batch of targets\n",
    "    [[ 6  7], [12 13], [18  1]]\n",
    "  ]\n",
    "]\n",
    "```\n",
    "\n",
    "Notice that the last target value in the last batch is the first input value of the first batch. In this case, `1`. This is a common technique used when creating sequence batches, although it is rather unintuitive."
   ]
  },
  {
   "cell_type": "code",
   "execution_count": 13,
   "metadata": {
    "collapsed": false,
    "deletable": true,
    "editable": true
   },
   "outputs": [
    {
     "name": "stdout",
     "output_type": "stream",
     "text": [
      "Tests Passed\n"
     ]
    }
   ],
   "source": [
    "def get_batches(int_text, batch_size, seq_length):\n",
    "    \"\"\"\n",
    "    Return batches of input and target\n",
    "    :param int_text: Text with the words replaced by their ids\n",
    "    :param batch_size: The size of batch\n",
    "    :param seq_length: The length of sequence\n",
    "    :return: Batches as a Numpy array\n",
    "    \"\"\"\n",
    "    # TODO: Implement Function\n",
    "    n_batches = int(len(int_text) / (batch_size * seq_length))\n",
    "    x = np.array(int_text[:n_batches*batch_size*seq_length])\n",
    "    y = np.array(int_text[1:n_batches*batch_size*seq_length+1])\n",
    "    y[-1] = x[0]\n",
    "    xbat = np.split(x.reshape(batch_size, -1), n_batches, 1)\n",
    "    ybat = np.split(y.reshape(batch_size, -1), n_batches, 1)\n",
    "    return np.array(list(zip(xbat, ybat)))\n",
    "\n",
    "\n",
    "\"\"\"\n",
    "DON'T MODIFY ANYTHING IN THIS CELL THAT IS BELOW THIS LINE\n",
    "\"\"\"\n",
    "tests.test_get_batches(get_batches)"
   ]
  },
  {
   "cell_type": "markdown",
   "metadata": {
    "deletable": true,
    "editable": true
   },
   "source": [
    "## Neural Network Training\n",
    "### Hyperparameters\n",
    "Tune the following parameters:\n",
    "\n",
    "- Set `num_epochs` to the number of epochs.\n",
    "- Set `batch_size` to the batch size.\n",
    "- Set `rnn_size` to the size of the RNNs.\n",
    "- Set `embed_dim` to the size of the embedding.\n",
    "- Set `seq_length` to the length of sequence.\n",
    "- Set `learning_rate` to the learning rate.\n",
    "- Set `show_every_n_batches` to the number of batches the neural network should print progress."
   ]
  },
  {
   "cell_type": "code",
   "execution_count": 18,
   "metadata": {
    "collapsed": true,
    "deletable": true,
    "editable": true
   },
   "outputs": [],
   "source": [
    "# Number of Epochs\n",
    "num_epochs = 100\n",
    "# Batch Size\n",
    "batch_size = 32\n",
    "# RNN Size\n",
    "rnn_size = 256\n",
    "# Embedding Dimension Size\n",
    "embed_dim = 30\n",
    "# Sequence Length\n",
    "seq_length = 20\n",
    "# Learning Rate\n",
    "learning_rate = 0.01\n",
    "# Show stats for every n number of batches\n",
    "show_every_n_batches = 30\n",
    "\n",
    "\"\"\"\n",
    "DON'T MODIFY ANYTHING IN THIS CELL THAT IS BELOW THIS LINE\n",
    "\"\"\"\n",
    "save_dir = './save'"
   ]
  },
  {
   "cell_type": "markdown",
   "metadata": {
    "deletable": true,
    "editable": true
   },
   "source": [
    "### Build the Graph\n",
    "Build the graph using the neural network you implemented."
   ]
  },
  {
   "cell_type": "code",
   "execution_count": 19,
   "metadata": {
    "collapsed": true,
    "deletable": true,
    "editable": true
   },
   "outputs": [],
   "source": [
    "\"\"\"\n",
    "DON'T MODIFY ANYTHING IN THIS CELL\n",
    "\"\"\"\n",
    "from tensorflow.contrib import seq2seq\n",
    "\n",
    "train_graph = tf.Graph()\n",
    "with train_graph.as_default():\n",
    "    vocab_size = len(int_to_vocab)\n",
    "    input_text, targets, lr = get_inputs()\n",
    "    input_data_shape = tf.shape(input_text)\n",
    "    cell, initial_state = get_init_cell(input_data_shape[0], rnn_size)\n",
    "    logits, final_state = build_nn(cell, rnn_size, input_text, vocab_size, embed_dim)\n",
    "\n",
    "    # Probabilities for generating words\n",
    "    probs = tf.nn.softmax(logits, name='probs')\n",
    "\n",
    "    # Loss function\n",
    "    cost = seq2seq.sequence_loss(\n",
    "        logits,\n",
    "        targets,\n",
    "        tf.ones([input_data_shape[0], input_data_shape[1]]))\n",
    "\n",
    "    # Optimizer\n",
    "    optimizer = tf.train.AdamOptimizer(lr)\n",
    "\n",
    "    # Gradient Clipping\n",
    "    gradients = optimizer.compute_gradients(cost)\n",
    "    capped_gradients = [(tf.clip_by_value(grad, -1., 1.), var) for grad, var in gradients if grad is not None]\n",
    "    train_op = optimizer.apply_gradients(capped_gradients)"
   ]
  },
  {
   "cell_type": "markdown",
   "metadata": {
    "deletable": true,
    "editable": true
   },
   "source": [
    "## Train\n",
    "Train the neural network on the preprocessed data.  If you have a hard time getting a good loss, check the [forums](https://discussions.udacity.com/) to see if anyone is having the same problem."
   ]
  },
  {
   "cell_type": "code",
   "execution_count": 20,
   "metadata": {
    "collapsed": false,
    "deletable": true,
    "editable": true
   },
   "outputs": [
    {
     "name": "stdout",
     "output_type": "stream",
     "text": [
      "Epoch   0 Batch    0/107   train_loss = 9.056\n",
      "Epoch   0 Batch   30/107   train_loss = 5.836\n",
      "Epoch   0 Batch   60/107   train_loss = 5.374\n",
      "Epoch   0 Batch   90/107   train_loss = 5.099\n",
      "Epoch   1 Batch   13/107   train_loss = 5.156\n",
      "Epoch   1 Batch   43/107   train_loss = 5.201\n",
      "Epoch   1 Batch   73/107   train_loss = 4.855\n",
      "Epoch   1 Batch  103/107   train_loss = 4.633\n",
      "Epoch   2 Batch   26/107   train_loss = 4.231\n",
      "Epoch   2 Batch   56/107   train_loss = 4.168\n",
      "Epoch   2 Batch   86/107   train_loss = 4.247\n",
      "Epoch   3 Batch    9/107   train_loss = 4.074\n",
      "Epoch   3 Batch   39/107   train_loss = 3.811\n",
      "Epoch   3 Batch   69/107   train_loss = 3.703\n",
      "Epoch   3 Batch   99/107   train_loss = 3.601\n",
      "Epoch   4 Batch   22/107   train_loss = 3.512\n",
      "Epoch   4 Batch   52/107   train_loss = 3.341\n",
      "Epoch   4 Batch   82/107   train_loss = 3.131\n",
      "Epoch   5 Batch    5/107   train_loss = 3.103\n",
      "Epoch   5 Batch   35/107   train_loss = 2.833\n",
      "Epoch   5 Batch   65/107   train_loss = 2.762\n",
      "Epoch   5 Batch   95/107   train_loss = 2.415\n",
      "Epoch   6 Batch   18/107   train_loss = 2.339\n",
      "Epoch   6 Batch   48/107   train_loss = 2.431\n",
      "Epoch   6 Batch   78/107   train_loss = 2.121\n",
      "Epoch   7 Batch    1/107   train_loss = 2.241\n",
      "Epoch   7 Batch   31/107   train_loss = 2.110\n",
      "Epoch   7 Batch   61/107   train_loss = 1.972\n",
      "Epoch   7 Batch   91/107   train_loss = 1.950\n",
      "Epoch   8 Batch   14/107   train_loss = 1.857\n",
      "Epoch   8 Batch   44/107   train_loss = 1.545\n",
      "Epoch   8 Batch   74/107   train_loss = 1.871\n",
      "Epoch   8 Batch  104/107   train_loss = 1.775\n",
      "Epoch   9 Batch   27/107   train_loss = 1.749\n",
      "Epoch   9 Batch   57/107   train_loss = 1.700\n",
      "Epoch   9 Batch   87/107   train_loss = 1.510\n",
      "Epoch  10 Batch   10/107   train_loss = 1.730\n",
      "Epoch  10 Batch   40/107   train_loss = 1.426\n",
      "Epoch  10 Batch   70/107   train_loss = 1.496\n",
      "Epoch  10 Batch  100/107   train_loss = 1.310\n",
      "Epoch  11 Batch   23/107   train_loss = 1.327\n",
      "Epoch  11 Batch   53/107   train_loss = 1.174\n",
      "Epoch  11 Batch   83/107   train_loss = 1.354\n",
      "Epoch  12 Batch    6/107   train_loss = 1.437\n",
      "Epoch  12 Batch   36/107   train_loss = 1.254\n",
      "Epoch  12 Batch   66/107   train_loss = 1.182\n",
      "Epoch  12 Batch   96/107   train_loss = 1.290\n",
      "Epoch  13 Batch   19/107   train_loss = 1.117\n",
      "Epoch  13 Batch   49/107   train_loss = 1.012\n",
      "Epoch  13 Batch   79/107   train_loss = 1.141\n",
      "Epoch  14 Batch    2/107   train_loss = 1.122\n",
      "Epoch  14 Batch   32/107   train_loss = 0.983\n",
      "Epoch  14 Batch   62/107   train_loss = 1.055\n",
      "Epoch  14 Batch   92/107   train_loss = 1.215\n",
      "Epoch  15 Batch   15/107   train_loss = 1.002\n",
      "Epoch  15 Batch   45/107   train_loss = 1.017\n",
      "Epoch  15 Batch   75/107   train_loss = 1.071\n",
      "Epoch  15 Batch  105/107   train_loss = 0.963\n",
      "Epoch  16 Batch   28/107   train_loss = 1.021\n",
      "Epoch  16 Batch   58/107   train_loss = 0.906\n",
      "Epoch  16 Batch   88/107   train_loss = 0.875\n",
      "Epoch  17 Batch   11/107   train_loss = 0.977\n",
      "Epoch  17 Batch   41/107   train_loss = 0.956\n",
      "Epoch  17 Batch   71/107   train_loss = 0.905\n",
      "Epoch  17 Batch  101/107   train_loss = 0.860\n",
      "Epoch  18 Batch   24/107   train_loss = 0.890\n",
      "Epoch  18 Batch   54/107   train_loss = 0.795\n",
      "Epoch  18 Batch   84/107   train_loss = 0.870\n",
      "Epoch  19 Batch    7/107   train_loss = 0.839\n",
      "Epoch  19 Batch   37/107   train_loss = 0.839\n",
      "Epoch  19 Batch   67/107   train_loss = 0.911\n",
      "Epoch  19 Batch   97/107   train_loss = 0.799\n",
      "Epoch  20 Batch   20/107   train_loss = 0.918\n",
      "Epoch  20 Batch   50/107   train_loss = 0.772\n",
      "Epoch  20 Batch   80/107   train_loss = 0.732\n",
      "Epoch  21 Batch    3/107   train_loss = 0.730\n",
      "Epoch  21 Batch   33/107   train_loss = 0.664\n",
      "Epoch  21 Batch   63/107   train_loss = 0.716\n",
      "Epoch  21 Batch   93/107   train_loss = 0.784\n",
      "Epoch  22 Batch   16/107   train_loss = 0.695\n",
      "Epoch  22 Batch   46/107   train_loss = 0.644\n",
      "Epoch  22 Batch   76/107   train_loss = 0.574\n",
      "Epoch  22 Batch  106/107   train_loss = 0.733\n",
      "Epoch  23 Batch   29/107   train_loss = 0.664\n",
      "Epoch  23 Batch   59/107   train_loss = 0.647\n",
      "Epoch  23 Batch   89/107   train_loss = 0.707\n",
      "Epoch  24 Batch   12/107   train_loss = 0.648\n",
      "Epoch  24 Batch   42/107   train_loss = 0.609\n",
      "Epoch  24 Batch   72/107   train_loss = 0.686\n",
      "Epoch  24 Batch  102/107   train_loss = 0.646\n",
      "Epoch  25 Batch   25/107   train_loss = 0.643\n",
      "Epoch  25 Batch   55/107   train_loss = 0.596\n",
      "Epoch  25 Batch   85/107   train_loss = 0.627\n",
      "Epoch  26 Batch    8/107   train_loss = 0.598\n",
      "Epoch  26 Batch   38/107   train_loss = 0.564\n",
      "Epoch  26 Batch   68/107   train_loss = 0.618\n",
      "Epoch  26 Batch   98/107   train_loss = 0.698\n",
      "Epoch  27 Batch   21/107   train_loss = 0.652\n",
      "Epoch  27 Batch   51/107   train_loss = 0.639\n",
      "Epoch  27 Batch   81/107   train_loss = 0.585\n",
      "Epoch  28 Batch    4/107   train_loss = 0.667\n",
      "Epoch  28 Batch   34/107   train_loss = 0.621\n",
      "Epoch  28 Batch   64/107   train_loss = 0.613\n",
      "Epoch  28 Batch   94/107   train_loss = 0.620\n",
      "Epoch  29 Batch   17/107   train_loss = 0.521\n",
      "Epoch  29 Batch   47/107   train_loss = 0.537\n",
      "Epoch  29 Batch   77/107   train_loss = 0.545\n",
      "Epoch  30 Batch    0/107   train_loss = 0.548\n",
      "Epoch  30 Batch   30/107   train_loss = 0.501\n",
      "Epoch  30 Batch   60/107   train_loss = 0.598\n",
      "Epoch  30 Batch   90/107   train_loss = 0.536\n",
      "Epoch  31 Batch   13/107   train_loss = 0.478\n",
      "Epoch  31 Batch   43/107   train_loss = 0.461\n",
      "Epoch  31 Batch   73/107   train_loss = 0.624\n",
      "Epoch  31 Batch  103/107   train_loss = 0.493\n",
      "Epoch  32 Batch   26/107   train_loss = 0.546\n",
      "Epoch  32 Batch   56/107   train_loss = 0.515\n",
      "Epoch  32 Batch   86/107   train_loss = 0.451\n",
      "Epoch  33 Batch    9/107   train_loss = 0.449\n",
      "Epoch  33 Batch   39/107   train_loss = 0.518\n",
      "Epoch  33 Batch   69/107   train_loss = 0.557\n",
      "Epoch  33 Batch   99/107   train_loss = 0.460\n",
      "Epoch  34 Batch   22/107   train_loss = 0.569\n",
      "Epoch  34 Batch   52/107   train_loss = 0.539\n",
      "Epoch  34 Batch   82/107   train_loss = 0.520\n",
      "Epoch  35 Batch    5/107   train_loss = 0.555\n",
      "Epoch  35 Batch   35/107   train_loss = 0.514\n",
      "Epoch  35 Batch   65/107   train_loss = 0.602\n",
      "Epoch  35 Batch   95/107   train_loss = 0.500\n",
      "Epoch  36 Batch   18/107   train_loss = 0.467\n",
      "Epoch  36 Batch   48/107   train_loss = 0.653\n",
      "Epoch  36 Batch   78/107   train_loss = 0.545\n",
      "Epoch  37 Batch    1/107   train_loss = 0.647\n",
      "Epoch  37 Batch   31/107   train_loss = 0.511\n",
      "Epoch  37 Batch   61/107   train_loss = 0.544\n",
      "Epoch  37 Batch   91/107   train_loss = 0.554\n",
      "Epoch  38 Batch   14/107   train_loss = 0.553\n",
      "Epoch  38 Batch   44/107   train_loss = 0.564\n",
      "Epoch  38 Batch   74/107   train_loss = 0.629\n",
      "Epoch  38 Batch  104/107   train_loss = 0.629\n",
      "Epoch  39 Batch   27/107   train_loss = 0.623\n",
      "Epoch  39 Batch   57/107   train_loss = 0.616\n",
      "Epoch  39 Batch   87/107   train_loss = 0.599\n",
      "Epoch  40 Batch   10/107   train_loss = 0.634\n",
      "Epoch  40 Batch   40/107   train_loss = 0.493\n",
      "Epoch  40 Batch   70/107   train_loss = 0.508\n",
      "Epoch  40 Batch  100/107   train_loss = 0.550\n",
      "Epoch  41 Batch   23/107   train_loss = 0.481\n",
      "Epoch  41 Batch   53/107   train_loss = 0.527\n",
      "Epoch  41 Batch   83/107   train_loss = 0.521\n",
      "Epoch  42 Batch    6/107   train_loss = 0.551\n",
      "Epoch  42 Batch   36/107   train_loss = 0.532\n",
      "Epoch  42 Batch   66/107   train_loss = 0.501\n",
      "Epoch  42 Batch   96/107   train_loss = 0.502\n",
      "Epoch  43 Batch   19/107   train_loss = 0.461\n",
      "Epoch  43 Batch   49/107   train_loss = 0.470\n",
      "Epoch  43 Batch   79/107   train_loss = 0.491\n",
      "Epoch  44 Batch    2/107   train_loss = 0.483\n",
      "Epoch  44 Batch   32/107   train_loss = 0.450\n",
      "Epoch  44 Batch   62/107   train_loss = 0.512\n",
      "Epoch  44 Batch   92/107   train_loss = 0.586\n",
      "Epoch  45 Batch   15/107   train_loss = 0.470\n",
      "Epoch  45 Batch   45/107   train_loss = 0.445\n",
      "Epoch  45 Batch   75/107   train_loss = 0.455\n",
      "Epoch  45 Batch  105/107   train_loss = 0.448\n",
      "Epoch  46 Batch   28/107   train_loss = 0.426\n",
      "Epoch  46 Batch   58/107   train_loss = 0.397\n",
      "Epoch  46 Batch   88/107   train_loss = 0.497\n",
      "Epoch  47 Batch   11/107   train_loss = 0.493\n",
      "Epoch  47 Batch   41/107   train_loss = 0.466\n",
      "Epoch  47 Batch   71/107   train_loss = 0.500\n",
      "Epoch  47 Batch  101/107   train_loss = 0.463\n",
      "Epoch  48 Batch   24/107   train_loss = 0.512\n",
      "Epoch  48 Batch   54/107   train_loss = 0.459\n",
      "Epoch  48 Batch   84/107   train_loss = 0.460\n",
      "Epoch  49 Batch    7/107   train_loss = 0.479\n",
      "Epoch  49 Batch   37/107   train_loss = 0.455\n",
      "Epoch  49 Batch   67/107   train_loss = 0.516\n",
      "Epoch  49 Batch   97/107   train_loss = 0.505\n",
      "Epoch  50 Batch   20/107   train_loss = 0.579\n",
      "Epoch  50 Batch   50/107   train_loss = 0.548\n",
      "Epoch  50 Batch   80/107   train_loss = 0.561\n",
      "Epoch  51 Batch    3/107   train_loss = 0.570\n",
      "Epoch  51 Batch   33/107   train_loss = 0.622\n",
      "Epoch  51 Batch   63/107   train_loss = 0.504\n",
      "Epoch  51 Batch   93/107   train_loss = 0.606\n",
      "Epoch  52 Batch   16/107   train_loss = 0.589\n",
      "Epoch  52 Batch   46/107   train_loss = 0.525\n",
      "Epoch  52 Batch   76/107   train_loss = 0.503\n",
      "Epoch  52 Batch  106/107   train_loss = 0.624\n",
      "Epoch  53 Batch   29/107   train_loss = 0.510\n",
      "Epoch  53 Batch   59/107   train_loss = 0.527\n",
      "Epoch  53 Batch   89/107   train_loss = 0.534\n",
      "Epoch  54 Batch   12/107   train_loss = 0.633\n",
      "Epoch  54 Batch   42/107   train_loss = 0.562\n",
      "Epoch  54 Batch   72/107   train_loss = 0.496\n",
      "Epoch  54 Batch  102/107   train_loss = 0.596\n",
      "Epoch  55 Batch   25/107   train_loss = 0.531\n",
      "Epoch  55 Batch   55/107   train_loss = 0.513\n",
      "Epoch  55 Batch   85/107   train_loss = 0.570\n",
      "Epoch  56 Batch    8/107   train_loss = 0.590\n",
      "Epoch  56 Batch   38/107   train_loss = 0.416\n",
      "Epoch  56 Batch   68/107   train_loss = 0.512\n",
      "Epoch  56 Batch   98/107   train_loss = 0.520\n",
      "Epoch  57 Batch   21/107   train_loss = 0.468\n",
      "Epoch  57 Batch   51/107   train_loss = 0.517\n",
      "Epoch  57 Batch   81/107   train_loss = 0.433\n",
      "Epoch  58 Batch    4/107   train_loss = 0.469\n",
      "Epoch  58 Batch   34/107   train_loss = 0.412\n",
      "Epoch  58 Batch   64/107   train_loss = 0.458\n",
      "Epoch  58 Batch   94/107   train_loss = 0.427\n",
      "Epoch  59 Batch   17/107   train_loss = 0.359\n",
      "Epoch  59 Batch   47/107   train_loss = 0.385\n",
      "Epoch  59 Batch   77/107   train_loss = 0.387\n",
      "Epoch  60 Batch    0/107   train_loss = 0.384\n",
      "Epoch  60 Batch   30/107   train_loss = 0.387\n",
      "Epoch  60 Batch   60/107   train_loss = 0.409\n",
      "Epoch  60 Batch   90/107   train_loss = 0.432\n",
      "Epoch  61 Batch   13/107   train_loss = 0.341\n",
      "Epoch  61 Batch   43/107   train_loss = 0.344\n",
      "Epoch  61 Batch   73/107   train_loss = 0.422\n",
      "Epoch  61 Batch  103/107   train_loss = 0.355\n",
      "Epoch  62 Batch   26/107   train_loss = 0.342\n",
      "Epoch  62 Batch   56/107   train_loss = 0.383\n",
      "Epoch  62 Batch   86/107   train_loss = 0.306\n",
      "Epoch  63 Batch    9/107   train_loss = 0.283\n",
      "Epoch  63 Batch   39/107   train_loss = 0.432\n",
      "Epoch  63 Batch   69/107   train_loss = 0.378\n",
      "Epoch  63 Batch   99/107   train_loss = 0.365\n",
      "Epoch  64 Batch   22/107   train_loss = 0.425\n",
      "Epoch  64 Batch   52/107   train_loss = 0.388\n",
      "Epoch  64 Batch   82/107   train_loss = 0.416\n",
      "Epoch  65 Batch    5/107   train_loss = 0.412\n",
      "Epoch  65 Batch   35/107   train_loss = 0.448\n",
      "Epoch  65 Batch   65/107   train_loss = 0.530\n",
      "Epoch  65 Batch   95/107   train_loss = 0.446\n",
      "Epoch  66 Batch   18/107   train_loss = 0.485\n",
      "Epoch  66 Batch   48/107   train_loss = 0.565\n",
      "Epoch  66 Batch   78/107   train_loss = 0.578\n",
      "Epoch  67 Batch    1/107   train_loss = 0.638\n",
      "Epoch  67 Batch   31/107   train_loss = 0.554\n",
      "Epoch  67 Batch   61/107   train_loss = 0.739\n",
      "Epoch  67 Batch   91/107   train_loss = 0.702\n",
      "Epoch  68 Batch   14/107   train_loss = 0.718\n",
      "Epoch  68 Batch   44/107   train_loss = 0.758\n",
      "Epoch  68 Batch   74/107   train_loss = 0.820\n",
      "Epoch  68 Batch  104/107   train_loss = 0.815\n",
      "Epoch  69 Batch   27/107   train_loss = 0.747\n",
      "Epoch  69 Batch   57/107   train_loss = 0.767\n",
      "Epoch  69 Batch   87/107   train_loss = 0.811\n",
      "Epoch  70 Batch   10/107   train_loss = 0.747\n",
      "Epoch  70 Batch   40/107   train_loss = 0.686\n",
      "Epoch  70 Batch   70/107   train_loss = 0.623\n",
      "Epoch  70 Batch  100/107   train_loss = 0.660\n",
      "Epoch  71 Batch   23/107   train_loss = 0.665\n",
      "Epoch  71 Batch   53/107   train_loss = 0.541\n",
      "Epoch  71 Batch   83/107   train_loss = 0.598\n",
      "Epoch  72 Batch    6/107   train_loss = 0.524\n",
      "Epoch  72 Batch   36/107   train_loss = 0.591\n",
      "Epoch  72 Batch   66/107   train_loss = 0.463\n",
      "Epoch  72 Batch   96/107   train_loss = 0.481\n",
      "Epoch  73 Batch   19/107   train_loss = 0.455\n",
      "Epoch  73 Batch   49/107   train_loss = 0.373\n",
      "Epoch  73 Batch   79/107   train_loss = 0.448\n",
      "Epoch  74 Batch    2/107   train_loss = 0.445\n",
      "Epoch  74 Batch   32/107   train_loss = 0.377\n",
      "Epoch  74 Batch   62/107   train_loss = 0.345\n",
      "Epoch  74 Batch   92/107   train_loss = 0.389\n",
      "Epoch  75 Batch   15/107   train_loss = 0.318\n",
      "Epoch  75 Batch   45/107   train_loss = 0.297\n",
      "Epoch  75 Batch   75/107   train_loss = 0.308\n",
      "Epoch  75 Batch  105/107   train_loss = 0.299\n",
      "Epoch  76 Batch   28/107   train_loss = 0.291\n",
      "Epoch  76 Batch   58/107   train_loss = 0.255\n",
      "Epoch  76 Batch   88/107   train_loss = 0.275\n",
      "Epoch  77 Batch   11/107   train_loss = 0.296\n",
      "Epoch  77 Batch   41/107   train_loss = 0.285\n",
      "Epoch  77 Batch   71/107   train_loss = 0.265\n",
      "Epoch  77 Batch  101/107   train_loss = 0.242\n",
      "Epoch  78 Batch   24/107   train_loss = 0.261\n",
      "Epoch  78 Batch   54/107   train_loss = 0.195\n",
      "Epoch  78 Batch   84/107   train_loss = 0.208\n",
      "Epoch  79 Batch    7/107   train_loss = 0.239\n",
      "Epoch  79 Batch   37/107   train_loss = 0.211\n",
      "Epoch  79 Batch   67/107   train_loss = 0.262\n",
      "Epoch  79 Batch   97/107   train_loss = 0.223\n",
      "Epoch  80 Batch   20/107   train_loss = 0.258\n",
      "Epoch  80 Batch   50/107   train_loss = 0.227\n",
      "Epoch  80 Batch   80/107   train_loss = 0.168\n",
      "Epoch  81 Batch    3/107   train_loss = 0.189\n",
      "Epoch  81 Batch   33/107   train_loss = 0.177\n",
      "Epoch  81 Batch   63/107   train_loss = 0.191\n",
      "Epoch  81 Batch   93/107   train_loss = 0.208\n",
      "Epoch  82 Batch   16/107   train_loss = 0.192\n",
      "Epoch  82 Batch   46/107   train_loss = 0.191\n",
      "Epoch  82 Batch   76/107   train_loss = 0.154\n",
      "Epoch  82 Batch  106/107   train_loss = 0.219\n",
      "Epoch  83 Batch   29/107   train_loss = 0.160\n",
      "Epoch  83 Batch   59/107   train_loss = 0.201\n",
      "Epoch  83 Batch   89/107   train_loss = 0.158\n",
      "Epoch  84 Batch   12/107   train_loss = 0.185\n",
      "Epoch  84 Batch   42/107   train_loss = 0.181\n",
      "Epoch  84 Batch   72/107   train_loss = 0.161\n",
      "Epoch  84 Batch  102/107   train_loss = 0.179\n",
      "Epoch  85 Batch   25/107   train_loss = 0.157\n",
      "Epoch  85 Batch   55/107   train_loss = 0.168\n",
      "Epoch  85 Batch   85/107   train_loss = 0.194\n",
      "Epoch  86 Batch    8/107   train_loss = 0.207\n",
      "Epoch  86 Batch   38/107   train_loss = 0.163\n",
      "Epoch  86 Batch   68/107   train_loss = 0.190\n",
      "Epoch  86 Batch   98/107   train_loss = 0.205\n",
      "Epoch  87 Batch   21/107   train_loss = 0.205\n",
      "Epoch  87 Batch   51/107   train_loss = 0.186\n",
      "Epoch  87 Batch   81/107   train_loss = 0.170\n",
      "Epoch  88 Batch    4/107   train_loss = 0.189\n",
      "Epoch  88 Batch   34/107   train_loss = 0.204\n",
      "Epoch  88 Batch   64/107   train_loss = 0.206\n",
      "Epoch  88 Batch   94/107   train_loss = 0.179\n",
      "Epoch  89 Batch   17/107   train_loss = 0.176\n",
      "Epoch  89 Batch   47/107   train_loss = 0.166\n",
      "Epoch  89 Batch   77/107   train_loss = 0.205\n",
      "Epoch  90 Batch    0/107   train_loss = 0.183\n",
      "Epoch  90 Batch   30/107   train_loss = 0.175\n",
      "Epoch  90 Batch   60/107   train_loss = 0.197\n",
      "Epoch  90 Batch   90/107   train_loss = 0.214\n",
      "Epoch  91 Batch   13/107   train_loss = 0.163\n",
      "Epoch  91 Batch   43/107   train_loss = 0.151\n",
      "Epoch  91 Batch   73/107   train_loss = 0.215\n",
      "Epoch  91 Batch  103/107   train_loss = 0.155\n",
      "Epoch  92 Batch   26/107   train_loss = 0.160\n",
      "Epoch  92 Batch   56/107   train_loss = 0.181\n",
      "Epoch  92 Batch   86/107   train_loss = 0.147\n",
      "Epoch  93 Batch    9/107   train_loss = 0.175\n",
      "Epoch  93 Batch   39/107   train_loss = 0.236\n",
      "Epoch  93 Batch   69/107   train_loss = 0.200\n",
      "Epoch  93 Batch   99/107   train_loss = 0.166\n",
      "Epoch  94 Batch   22/107   train_loss = 0.207\n",
      "Epoch  94 Batch   52/107   train_loss = 0.187\n",
      "Epoch  94 Batch   82/107   train_loss = 0.161\n",
      "Epoch  95 Batch    5/107   train_loss = 0.186\n",
      "Epoch  95 Batch   35/107   train_loss = 0.184\n",
      "Epoch  95 Batch   65/107   train_loss = 0.238\n",
      "Epoch  95 Batch   95/107   train_loss = 0.147\n",
      "Epoch  96 Batch   18/107   train_loss = 0.165\n",
      "Epoch  96 Batch   48/107   train_loss = 0.217\n",
      "Epoch  96 Batch   78/107   train_loss = 0.178\n",
      "Epoch  97 Batch    1/107   train_loss = 0.189\n",
      "Epoch  97 Batch   31/107   train_loss = 0.183\n",
      "Epoch  97 Batch   61/107   train_loss = 0.211\n",
      "Epoch  97 Batch   91/107   train_loss = 0.168\n",
      "Epoch  98 Batch   14/107   train_loss = 0.168\n",
      "Epoch  98 Batch   44/107   train_loss = 0.178\n",
      "Epoch  98 Batch   74/107   train_loss = 0.208\n",
      "Epoch  98 Batch  104/107   train_loss = 0.226\n",
      "Epoch  99 Batch   27/107   train_loss = 0.209\n",
      "Epoch  99 Batch   57/107   train_loss = 0.227\n",
      "Epoch  99 Batch   87/107   train_loss = 0.175\n",
      "Model Trained and Saved\n"
     ]
    }
   ],
   "source": [
    "\"\"\"\n",
    "DON'T MODIFY ANYTHING IN THIS CELL\n",
    "\"\"\"\n",
    "batches = get_batches(int_text, batch_size, seq_length)\n",
    "\n",
    "with tf.Session(graph=train_graph) as sess:\n",
    "    sess.run(tf.global_variables_initializer())\n",
    "\n",
    "    for epoch_i in range(num_epochs):\n",
    "        state = sess.run(initial_state, {input_text: batches[0][0]})\n",
    "\n",
    "        for batch_i, (x, y) in enumerate(batches):\n",
    "            feed = {\n",
    "                input_text: x,\n",
    "                targets: y,\n",
    "                initial_state: state,\n",
    "                lr: learning_rate}\n",
    "            train_loss, state, _ = sess.run([cost, final_state, train_op], feed)\n",
    "\n",
    "            # Show every <show_every_n_batches> batches\n",
    "            if (epoch_i * len(batches) + batch_i) % show_every_n_batches == 0:\n",
    "                print('Epoch {:>3} Batch {:>4}/{}   train_loss = {:.3f}'.format(\n",
    "                    epoch_i,\n",
    "                    batch_i,\n",
    "                    len(batches),\n",
    "                    train_loss))\n",
    "\n",
    "    # Save Model\n",
    "    saver = tf.train.Saver()\n",
    "    saver.save(sess, save_dir)\n",
    "    print('Model Trained and Saved')"
   ]
  },
  {
   "cell_type": "markdown",
   "metadata": {
    "deletable": true,
    "editable": true
   },
   "source": [
    "## Save Parameters\n",
    "Save `seq_length` and `save_dir` for generating a new TV script."
   ]
  },
  {
   "cell_type": "code",
   "execution_count": 21,
   "metadata": {
    "collapsed": true,
    "deletable": true,
    "editable": true
   },
   "outputs": [],
   "source": [
    "\"\"\"\n",
    "DON'T MODIFY ANYTHING IN THIS CELL\n",
    "\"\"\"\n",
    "# Save parameters for checkpoint\n",
    "helper.save_params((seq_length, save_dir))"
   ]
  },
  {
   "cell_type": "markdown",
   "metadata": {
    "deletable": true,
    "editable": true
   },
   "source": [
    "# Checkpoint"
   ]
  },
  {
   "cell_type": "code",
   "execution_count": 22,
   "metadata": {
    "collapsed": true,
    "deletable": true,
    "editable": true
   },
   "outputs": [],
   "source": [
    "\"\"\"\n",
    "DON'T MODIFY ANYTHING IN THIS CELL\n",
    "\"\"\"\n",
    "import tensorflow as tf\n",
    "import numpy as np\n",
    "import helper\n",
    "import problem_unittests as tests\n",
    "\n",
    "_, vocab_to_int, int_to_vocab, token_dict = helper.load_preprocess()\n",
    "seq_length, load_dir = helper.load_params()"
   ]
  },
  {
   "cell_type": "markdown",
   "metadata": {
    "deletable": true,
    "editable": true
   },
   "source": [
    "## Implement Generate Functions\n",
    "### Get Tensors\n",
    "Get tensors from `loaded_graph` using the function [`get_tensor_by_name()`](https://www.tensorflow.org/api_docs/python/tf/Graph#get_tensor_by_name).  Get the tensors using the following names:\n",
    "- \"input:0\"\n",
    "- \"initial_state:0\"\n",
    "- \"final_state:0\"\n",
    "- \"probs:0\"\n",
    "\n",
    "Return the tensors in the following tuple `(InputTensor, InitialStateTensor, FinalStateTensor, ProbsTensor)` "
   ]
  },
  {
   "cell_type": "code",
   "execution_count": 23,
   "metadata": {
    "collapsed": false,
    "deletable": true,
    "editable": true
   },
   "outputs": [
    {
     "name": "stdout",
     "output_type": "stream",
     "text": [
      "Tests Passed\n"
     ]
    }
   ],
   "source": [
    "def get_tensors(loaded_graph):\n",
    "    \"\"\"\n",
    "    Get input, initial state, final state, and probabilities tensor from <loaded_graph>\n",
    "    :param loaded_graph: TensorFlow graph loaded from file\n",
    "    :return: Tuple (InputTensor, InitialStateTensor, FinalStateTensor, ProbsTensor)\n",
    "    \"\"\"\n",
    "    # TODO: Implement Function\n",
    "    inputtensor = loaded_graph.get_tensor_by_name('input:0')\n",
    "    inistatetensor = loaded_graph.get_tensor_by_name('initial_state:0')\n",
    "    finstatetensor = loaded_graph.get_tensor_by_name('final_state:0')\n",
    "    probstensor = loaded_graph.get_tensor_by_name('probs:0')\n",
    "    return inputtensor, inistatetensor, finstatetensor, probstensor\n",
    "\n",
    "\n",
    "\"\"\"\n",
    "DON'T MODIFY ANYTHING IN THIS CELL THAT IS BELOW THIS LINE\n",
    "\"\"\"\n",
    "tests.test_get_tensors(get_tensors)"
   ]
  },
  {
   "cell_type": "markdown",
   "metadata": {
    "deletable": true,
    "editable": true
   },
   "source": [
    "### Choose Word\n",
    "Implement the `pick_word()` function to select the next word using `probabilities`."
   ]
  },
  {
   "cell_type": "code",
   "execution_count": 30,
   "metadata": {
    "collapsed": false,
    "deletable": true,
    "editable": true
   },
   "outputs": [
    {
     "name": "stdout",
     "output_type": "stream",
     "text": [
      "Tests Passed\n"
     ]
    }
   ],
   "source": [
    "def pick_word(probabilities, int_to_vocab):\n",
    "    \"\"\"\n",
    "    Pick the next word in the generated text\n",
    "    :param probabilities: Probabilites of the next word\n",
    "    :param int_to_vocab: Dictionary of word ids as the keys and words as the values\n",
    "    :return: String of the predicted word\n",
    "    \"\"\"\n",
    "    # TODO: Implement Function\n",
    "    ind = np.argsort(probabilities)\n",
    "    prob = np.array([probabilities[idx] for idx in ind])\n",
    "    choice = np.random.choice(ind, p=prob/prob.sum())\n",
    "    return int_to_vocab[choice]\n",
    "\n",
    "\n",
    "\"\"\"\n",
    "DON'T MODIFY ANYTHING IN THIS CELL THAT IS BELOW THIS LINE\n",
    "\"\"\"\n",
    "tests.test_pick_word(pick_word)"
   ]
  },
  {
   "cell_type": "markdown",
   "metadata": {
    "deletable": true,
    "editable": true
   },
   "source": [
    "## Generate TV Script\n",
    "This will generate the TV script for you.  Set `gen_length` to the length of TV script you want to generate."
   ]
  },
  {
   "cell_type": "code",
   "execution_count": 31,
   "metadata": {
    "collapsed": false,
    "deletable": true,
    "editable": true
   },
   "outputs": [
    {
     "name": "stdout",
     "output_type": "stream",
     "text": [
      "INFO:tensorflow:Restoring parameters from ./save\n",
      "moe_szyslak:(scornful) bye weeks. bronco nagurski didn't get no bye weeks. and now he's dead.(nervous) oh for you, moe. you need you.\n",
      "moe_szyslak: sorry, homer. you gotta be sober to fly. i mean, it's not gonna be happy.\n",
      "his face is go there to come and kent brockman.\n",
      "moe_szyslak:(struggling with corkscrew) crummy right-handed corkscrews! what does you finally--\n",
      "homer_simpson: barney sorry homer! i was trying to set you?\n",
      "homer_simpson: well, well... it's me too.\n",
      "moe_szyslak: and why wait for the town.\n",
      "carl_carlson: grinch. homer this dry put a play i go, homer.\n",
      "homer_simpson:(a little tipsy) yesterday's whatsit? why does i do?\n",
      "moe_szyslak: what's a glitterati like, homer simpson took there!\" whoa, this is great. from channel, too late with the little girl, homer?\n",
      "moe_szyslak: yeah, pick me here.\n",
      "homer_simpson:(gasp) respect?! nooo! i can was back to go, homer.\n",
      "homer_simpson: marge...\n",
      "moe_szyslak: yeah, can i go out to the cops.\n",
      "moe_szyslak: and no, i love to your beat. i want to see the day you something...\n",
      "carl_carlson: hey,, come on, come in the back?\n",
      "homer_simpson: you nuclear workers to this store.\n",
      "dr. _julius_hibbert: all right, that's it. get 'em outta here. last night.\n",
      "homer_simpson: hey, i can't wait for drinking.\n",
      "homer_simpson: quit changing the subject. how do you feel about me right now?\n",
      "moe_szyslak: just the little more it,\" moe.\" the bar, i gotta put in a ladies like how to wear of...\n",
      "duffman: okay, chug-monkeys. what beverage, befouled your broom closet, and i'm gonna have to do something to change his life.\n",
      "lenny_leonard: we got the two months for this new great. and i'm a real life.\n",
      "barney_gumble: and i'm going to be these.\n",
      "mayor_joe_quimby:(french) je ne veux) and i do are like twenty... and... didn't ya?\n",
      "barney_gumble: i'd like to marge. what?\n",
      "moe_szyslak: i knew that back to the museum) i loved. i just know where the you.\n",
      "homer_simpson: ned, if you're really upset to tell you.\n",
      "moe_szyslak: where you goin'? it's not how'd i have fun i could easily sotto in this.\n",
      "moe_szyslak: hey, what are you doin'?\n",
      "moe_szyslak: nobody! no. this is the hank_williams_jr. : dumbest if you...\n",
      "homer_simpson:(touched) my bit...\n",
      "homer_simpson:(flatly) maybe i should call it.\n",
      "homer_simpson:(sour) another, is wikipedia(big box to get it.\n",
      "bart_simpson: maybe i are, it says, you're in here,\n",
      "homer_simpson: me?\n",
      "moe_szyslak: listen there, no one's ever won looks on our. here's my friend...\n",
      "moe_szyslak: plus i gotta be dressed as a civil war nurse / and then when i'm finished, forget something for. now, moe... homer, i want your life.\n",
      "carl_carlson: why? i was thinking.\n",
      "moe_szyslak: i always am home of the let's now i. buy your wife.\n",
      "homer_simpson:(sing-song) nobody loves you. the. you've been this for life here?\n",
      "moe_szyslak: it's a ah, you didn't win as with your army?\n",
      "homer_simpson: i took a home. i'm gonna quit dumb.....\n",
      "pool table pockets dive.\n",
      "homer_simpson:(checking watch, a little best way you up to the place time you guys in your neanderthal friends.\n",
      "lenny_leonard:\n",
      "lenny_leonard: gee, homer can't on you guys, i wanna tell ya, homer.\n",
      "homer_simpson: al? you, your honor. me?\n",
      "moe_szyslak: you, my car is kidnaps two pair.\n",
      "moe_szyslak: hey, homer. a bottle and what if you want to do?\n",
      "milhouse_van_houten: well, the school's having a bake. your feet touch the ground, is that.\n",
      "homer_simpson:(whiny) but i need that beer now.\n",
      "moe_szyslak: i'll tell you, how would you go around as a here there's gonna be a four-star brother-in-law and sells 'em to give me another and it'll drink.\n",
      "barney_gumble: if there's a ripcord app i can even give me the pickles off a little and a wad and he had this.\n",
      "moe_szyslak: sorry, homer.\n",
      "moe_szyslak: now, homer, what are you gonna do with your share of the money?\n",
      "homer_simpson: oh, moe, thank god you're here you, say no...\n",
      "moe_szyslak: okay, bad might. you need us were i use some contractors.\n",
      "\n",
      "\n",
      "marge_simpson: don't tell me how to make history. any thoughts?\n",
      "homer_simpson:(getting idea) i'm sorry i...\n",
      "barney_gumble:(sings) why please. oh, i made myself.\n",
      "moe_szyslak: whoa, whoa, if this couldn't watch espn nice.\n",
      "moe_szyslak: and they listen. you have a... who?\n",
      "moe_szyslak: eh, no point in mopin' around. i might as well join 'em.\n"
     ]
    }
   ],
   "source": [
    "gen_length = 1000\n",
    "# homer_simpson, moe_szyslak, or Barney_Gumble\n",
    "prime_word = 'moe_szyslak'\n",
    "\n",
    "\"\"\"\n",
    "DON'T MODIFY ANYTHING IN THIS CELL THAT IS BELOW THIS LINE\n",
    "\"\"\"\n",
    "loaded_graph = tf.Graph()\n",
    "with tf.Session(graph=loaded_graph) as sess:\n",
    "    # Load saved model\n",
    "    loader = tf.train.import_meta_graph(load_dir + '.meta')\n",
    "    loader.restore(sess, load_dir)\n",
    "\n",
    "    # Get Tensors from loaded model\n",
    "    input_text, initial_state, final_state, probs = get_tensors(loaded_graph)\n",
    "\n",
    "    # Sentences generation setup\n",
    "    gen_sentences = [prime_word + ':']\n",
    "    prev_state = sess.run(initial_state, {input_text: np.array([[1]])})\n",
    "\n",
    "    # Generate sentences\n",
    "    for n in range(gen_length):\n",
    "        # Dynamic Input\n",
    "        dyn_input = [[vocab_to_int[word] for word in gen_sentences[-seq_length:]]]\n",
    "        dyn_seq_length = len(dyn_input[0])\n",
    "\n",
    "        # Get Prediction\n",
    "        probabilities, prev_state = sess.run(\n",
    "            [probs, final_state],\n",
    "            {input_text: dyn_input, initial_state: prev_state})\n",
    "        \n",
    "        pred_word = pick_word(probabilities[0][dyn_seq_length-1], int_to_vocab)\n",
    "\n",
    "        gen_sentences.append(pred_word)\n",
    "    \n",
    "    # Remove tokens\n",
    "    tv_script = ' '.join(gen_sentences)\n",
    "    for key, token in token_dict.items():\n",
    "        ending = ' ' if key in ['\\n', '(', '\"'] else ''\n",
    "        tv_script = tv_script.replace(' ' + token.lower(), key)\n",
    "    tv_script = tv_script.replace('\\n ', '\\n')\n",
    "    tv_script = tv_script.replace('( ', '(')\n",
    "        \n",
    "    print(tv_script)"
   ]
  },
  {
   "cell_type": "markdown",
   "metadata": {
    "deletable": true,
    "editable": true
   },
   "source": [
    "# The TV Script is Nonsensical\n",
    "It's ok if the TV script doesn't make any sense.  We trained on less than a megabyte of text.  In order to get good results, you'll have to use a smaller vocabulary or get more data.  Luckily there's more data!  As we mentioned in the beggining of this project, this is a subset of [another dataset](https://www.kaggle.com/wcukierski/the-simpsons-by-the-data).  We didn't have you train on all the data, because that would take too long.  However, you are free to train your neural network on all the data.  After you complete the project, of course.\n",
    "# Submitting This Project\n",
    "When submitting this project, make sure to run all the cells before saving the notebook. Save the notebook file as \"dlnd_tv_script_generation.ipynb\" and save it as a HTML file under \"File\" -> \"Download as\". Include the \"helper.py\" and \"problem_unittests.py\" files in your submission."
   ]
  }
 ],
 "metadata": {
  "kernelspec": {
   "display_name": "Python 3",
   "language": "python",
   "name": "python3"
  },
  "language_info": {
   "codemirror_mode": {
    "name": "ipython",
    "version": 3
   },
   "file_extension": ".py",
   "mimetype": "text/x-python",
   "name": "python",
   "nbconvert_exporter": "python",
   "pygments_lexer": "ipython3",
   "version": "3.5.2"
  },
  "widgets": {
   "state": {},
   "version": "1.1.2"
  }
 },
 "nbformat": 4,
 "nbformat_minor": 1
}
